{
 "cells": [
  {
   "cell_type": "markdown",
   "metadata": {},
   "source": [
    "### What is Deep Learning?"
   ]
  },
  {
   "cell_type": "markdown",
   "metadata": {},
   "source": [
    "Deep Learning is a subfield of Artificial Intelligence and Machine Learning that is inspired by the structure of human  brain.\n",
    "\n",
    "Deep learning algorithms attempt to draw similar conclusions as humans would by continually analyzing data with a given logical sturcture called Neural Network.\n",
    "\n",
    "***"
   ]
  },
  {
   "cell_type": "markdown",
   "metadata": {},
   "source": [
    "Deep learning is part of a broader family of **machine learning** methods based **artificialneural networks** with **representation learning**\n",
    "\n",
    "Deep Learning Algorithm uses multiple layers to progressively extract higher-level feture form the raw input. For example, in **image processing**, lower layers may identify edges, while higher layers may identify the concepts relevant to a human such as digits or letters or faces.\n",
    "\n",
    "***"
   ]
  },
  {
   "cell_type": "markdown",
   "metadata": {},
   "source": []
  }
 ],
 "metadata": {
  "language_info": {
   "name": "python"
  }
 },
 "nbformat": 4,
 "nbformat_minor": 2
}
